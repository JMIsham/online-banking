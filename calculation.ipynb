{
 "cells": [
  {
   "cell_type": "code",
   "execution_count": 4,
   "metadata": {},
   "outputs": [],
   "source": [
    "import math\n",
    "\n",
    "vals = [\n",
    "    [1.6, 1.6, 42.9, 47.6, 6.3],\n",
    "    [12.7, 49.2, 23.8, 7.9, 6.3],\n",
    "    [0, 15.9, 30.2, 44.4, 9.5],\n",
    "    [1.6, 28.6, 39.7, 25.4, 4.8],\n",
    "    [0, 4.8, 20.6, 63.5, 9.5],\n",
    "    [0, 1.6, 19, 66.7, 12.7]\n",
    "]"
   ]
  },
  {
   "cell_type": "code",
   "execution_count": 5,
   "metadata": {},
   "outputs": [
    {
     "name": "stdout",
     "output_type": "stream",
     "text": [
      "3.554 0.7078728699420539 6.211904518037686\n",
      "2.456 1.0188385858417417 4.238027691197117\n",
      "3.475 0.8702729456900289 4.3321990381738225\n",
      "3.035 0.8916200003364662 0.31157206832165013\n",
      "3.729 0.6731061907307049 8.59635254731035\n",
      "3.9050000000000002 0.6098975323773659 11.777740404261626\n"
     ]
    }
   ],
   "source": [
    "for val in vals:\n",
    "    mean = 0\n",
    "    std = 0\n",
    "\n",
    "    for i in range (1,6):\n",
    "        mean += i*val[i-1]*0.01\n",
    "    for i in range (1,6):\n",
    "        std += val[i-1]*0.01*((mean - i)**2)\n",
    "    std = std**0.5   \n",
    "    \n",
    "    t = abs(3 - mean)*math.sqrt(63)/(std)\n",
    "    \n",
    "    print (mean, std, t)\n",
    "    "
   ]
  },
  {
   "cell_type": "code",
   "execution_count": 6,
   "metadata": {},
   "outputs": [
    {
     "data": {
      "text/plain": [
       "1.4142135623730951"
      ]
     },
     "execution_count": 6,
     "metadata": {},
     "output_type": "execute_result"
    }
   ],
   "source": [
    "math.sqrt(2)"
   ]
  },
  {
   "cell_type": "code",
   "execution_count": 8,
   "metadata": {},
   "outputs": [
    {
     "data": {
      "text/plain": [
       "2.9190398059001788"
      ]
     },
     "execution_count": 8,
     "metadata": {},
     "output_type": "execute_result"
    }
   ],
   "source": [
    "val11 = 48\n",
    "val12 = 16\n",
    "\n",
    "val21 = 27\n",
    "val22 = 28\n",
    "\n",
    "\n",
    "phat = (val11 + val21) / (val11 + val12 + val21 + val22)\n",
    "p1hat = (val11) / (val11 + val12)\n",
    "p2hat = (val21) / (val21 + val22)\n",
    "\n",
    "stat = abs(p1hat - p2hat) / math.sqrt((phat * (1 - phat)/(val11 + val12) + phat * (1 - phat) / (val21 + val22)))\n",
    "stat"
   ]
  },
  {
   "cell_type": "code",
   "execution_count": null,
   "metadata": {},
   "outputs": [],
   "source": []
  }
 ],
 "metadata": {
  "kernelspec": {
   "display_name": "Python 3",
   "language": "python",
   "name": "python3"
  },
  "language_info": {
   "codemirror_mode": {
    "name": "ipython",
    "version": 3
   },
   "file_extension": ".py",
   "mimetype": "text/x-python",
   "name": "python",
   "nbconvert_exporter": "python",
   "pygments_lexer": "ipython3",
   "version": "3.7.5"
  }
 },
 "nbformat": 4,
 "nbformat_minor": 4
}
